{
  "cells": [
    {
      "cell_type": "code",
      "execution_count": 3,
      "metadata": {
        "colab": {
          "base_uri": "https://localhost:8080/"
        },
        "id": "PCW8ac88PFd9",
        "outputId": "de4a2b25-3d41-47b4-ed43-5ef4b6757597"
      },
      "outputs": [
        {
          "output_type": "stream",
          "name": "stdout",
          "text": [
            "Requirement already satisfied: pyspark in /usr/local/lib/python3.11/dist-packages (3.5.1)\n",
            "Requirement already satisfied: py4j==0.10.9.7 in /usr/local/lib/python3.11/dist-packages (from pyspark) (0.10.9.7)\n"
          ]
        }
      ],
      "source": [
        "!pip install pyspark"
      ]
    },
    {
      "cell_type": "code",
      "execution_count": 4,
      "metadata": {
        "id": "c8j_Sa7nP5LH"
      },
      "outputs": [],
      "source": [
        "from pyspark.sql import SparkSession\n",
        "\n",
        "spark = SparkSession \\\n",
        "    .builder \\\n",
        "    .appName(\"Python Spark SQL basic example\") \\\n",
        "    .config(\"spark.some.config.option\", \"some-value\") \\\n",
        "    .getOrCreate()"
      ]
    },
    {
      "cell_type": "code",
      "execution_count": 5,
      "metadata": {
        "colab": {
          "base_uri": "https://localhost:8080/"
        },
        "id": "38DIM-g4P9rP",
        "outputId": "6ce55220-a6b8-4576-959f-df283f20d995"
      },
      "outputs": [
        {
          "output_type": "stream",
          "name": "stdout",
          "text": [
            "Mounted at /content/drive\n"
          ]
        }
      ],
      "source": [
        "from google.colab import drive\n",
        "drive.mount('/content/drive')"
      ]
    },
    {
      "cell_type": "code",
      "execution_count": 6,
      "metadata": {
        "id": "JKv7Df33QEQv"
      },
      "outputs": [],
      "source": [
        "#raw_data = spark.read.format(\"csv\").option(\"header\",\"true\").option(\"inferSchema\", \"true\").load(r\".\\\\diabetes.csv\")\n",
        "dataset = spark.read.csv('/content/drive/MyDrive/ML CN7030 /titanic_synthetic_data.csv',inferSchema=True, header =True)"
      ]
    },
    {
      "cell_type": "code",
      "execution_count": 7,
      "metadata": {
        "colab": {
          "base_uri": "https://localhost:8080/"
        },
        "id": "n2JmUsDuQbz_",
        "outputId": "b9eb4e7b-5aff-4857-f122-738edbcd8069"
      },
      "outputs": [
        {
          "output_type": "execute_result",
          "data": {
            "text/plain": [
              "['Pclass',\n",
              " 'Age',\n",
              " 'SibSp',\n",
              " 'Parch',\n",
              " 'Fare',\n",
              " 'Sex',\n",
              " 'Survived',\n",
              " 'Embarked_Q',\n",
              " 'Embarked_S']"
            ]
          },
          "metadata": {},
          "execution_count": 7
        }
      ],
      "source": [
        "# what are the columns in this dataset\n",
        "dataset.columns"
      ]
    },
    {
      "cell_type": "code",
      "execution_count": 8,
      "metadata": {
        "colab": {
          "base_uri": "https://localhost:8080/"
        },
        "id": "06Am98YaQg63",
        "outputId": "03a9c18b-a1c9-4f0f-8637-fb7239c6451f"
      },
      "outputs": [
        {
          "output_type": "stream",
          "name": "stdout",
          "text": [
            "+-------+------------------+------------------+------------------+------------------+\n",
            "|Summary|               Age|             Sibsp|              Fare|               Sex|\n",
            "+-------+------------------+------------------+------------------+------------------+\n",
            "|  count|           1000000|           1000000|           1000000|           1000000|\n",
            "|   mean|         39.517847|          4.500906| 254.9829083944402|           0.50082|\n",
            "| stddev|23.092708389398037|2.8714427426552285|141.53963219142216|0.4999995775993916|\n",
            "|    min|                 0|                 0|10.000191449724019|                 0|\n",
            "|    max|                79|                 9| 499.9999338139367|                 1|\n",
            "+-------+------------------+------------------+------------------+------------------+\n",
            "\n"
          ]
        }
      ],
      "source": [
        "dataset.describe().select(\"Summary\",\"Age\",\"Sibsp\",\"Fare\",\"Sex\").show()"
      ]
    },
    {
      "cell_type": "code",
      "execution_count": 9,
      "metadata": {
        "colab": {
          "base_uri": "https://localhost:8080/"
        },
        "id": "f3g_xMMUS-lr",
        "outputId": "fe2f15e3-d0ba-4bc4-a1dd-0b237b85a586"
      },
      "outputs": [
        {
          "output_type": "stream",
          "name": "stdout",
          "text": [
            "+------------------+------------------+-------------------+\n",
            "|             Parch|        Embarked_S|         Embarked_Q|\n",
            "+------------------+------------------+-------------------+\n",
            "|           1000000|           1000000|            1000000|\n",
            "|          4.497493|          0.333661|           0.332717|\n",
            "|2.8728101169393594|0.4715204761307361|0.47118639616145436|\n",
            "|                 0|                 0|                  0|\n",
            "|                 9|                 1|                  1|\n",
            "+------------------+------------------+-------------------+\n",
            "\n"
          ]
        }
      ],
      "source": [
        "dataset.describe().select(\"Parch\",\"Embarked_S\",\"Embarked_Q\").show()"
      ]
    },
    {
      "cell_type": "code",
      "execution_count": 10,
      "metadata": {
        "colab": {
          "base_uri": "https://localhost:8080/"
        },
        "id": "S9BSxrMPTzir",
        "outputId": "23d6657e-2490-4e8f-e130-580fb977f122"
      },
      "outputs": [
        {
          "output_type": "stream",
          "name": "stdout",
          "text": [
            "+------------------+\n",
            "|            Pclass|\n",
            "+------------------+\n",
            "|           1000000|\n",
            "|          1.999411|\n",
            "|0.8168263709530482|\n",
            "|                 1|\n",
            "|                 3|\n",
            "+------------------+\n",
            "\n"
          ]
        }
      ],
      "source": [
        "dataset.describe().select(\"Pclass\").show()"
      ]
    },
    {
      "cell_type": "code",
      "execution_count": 11,
      "metadata": {
        "colab": {
          "base_uri": "https://localhost:8080/"
        },
        "id": "s1k64--2VaGW",
        "outputId": "b77adc51-e778-4f30-cbb2-f160bd057c76"
      },
      "outputs": [
        {
          "output_type": "stream",
          "name": "stdout",
          "text": [
            "+------+---+-----+-----+----+---+--------+----------+----------+\n",
            "|Pclass|Age|SibSp|Parch|Fare|Sex|Survived|Embarked_Q|Embarked_S|\n",
            "+------+---+-----+-----+----+---+--------+----------+----------+\n",
            "|     0|  0|    0|    0|   0|  0|       0|         0|         0|\n",
            "+------+---+-----+-----+----+---+--------+----------+----------+\n",
            "\n"
          ]
        }
      ],
      "source": [
        "from pyspark.sql.functions import col,isnan, when, count\n",
        "dataset.select([count(when(isnan(c) | col(c).isNull(), c)).alias(c) for c in dataset.columns]\n",
        "   ).show()"
      ]
    },
    {
      "cell_type": "code",
      "execution_count": 12,
      "metadata": {
        "colab": {
          "base_uri": "https://localhost:8080/"
        },
        "id": "8ofHCMhEViTn",
        "outputId": "1ef914e2-bb59-451b-8533-cd87b8c6c761"
      },
      "outputs": [
        {
          "output_type": "stream",
          "name": "stdout",
          "text": [
            "+------+-----+---+------------------+-----+\n",
            "|Pclass|Parch|Age|              Fare|SibSp|\n",
            "+------+-----+---+------------------+-----+\n",
            "|     3|    7| 42|397.00178367782024|    6|\n",
            "|     1|    7| 52|302.12770032784186|    6|\n",
            "|     3|    8| 25| 427.1058765283985|    3|\n",
            "|     3|    7| 32| 326.8049924602327|    9|\n",
            "|     1|    5| 40|17.718838497771657| NULL|\n",
            "+------+-----+---+------------------+-----+\n",
            "only showing top 5 rows\n",
            "\n"
          ]
        }
      ],
      "source": [
        "# replace min value of zeros with None as data cleaning processs\n",
        "import numpy as np\n",
        "from pyspark.sql.functions import when\n",
        "dataset=dataset.withColumn(\"SibSp\",when(dataset.SibSp==0, None).otherwise (dataset.SibSp)) # Corrected typo\n",
        "dataset=dataset.withColumn(\"Fare\",when(dataset.Fare==0,None).otherwise(dataset.Fare))\n",
        "dataset=dataset.withColumn(\"Age\",when(dataset.Age==0,None).otherwise(dataset.Age))\n",
        "dataset=dataset.withColumn(\"Parch\",when(dataset.Parch==0,None).otherwise(dataset.Parch))\n",
        "dataset=dataset.withColumn(\"Pclass\",when(dataset.Pclass==0,None).otherwise(dataset.Pclass))\n",
        "dataset.select(\"Pclass\",\"Parch\",\"Age\",\"Fare\",\"SibSp\").show(5)"
      ]
    },
    {
      "cell_type": "code",
      "execution_count": 13,
      "metadata": {
        "colab": {
          "base_uri": "https://localhost:8080/"
        },
        "id": "IgJQVDOEZI0a",
        "outputId": "50f32185-6312-41a7-fb74-7afbb4d47ddd"
      },
      "outputs": [
        {
          "output_type": "stream",
          "name": "stdout",
          "text": [
            "+------+---+-----+-----+----+---+--------+----------+----------+\n",
            "|Pclass|Age|SibSp|Parch|Fare|Sex|Survived|Embarked_Q|Embarked_S|\n",
            "+------+---+-----+-----+----+---+--------+----------+----------+\n",
            "|     0|  0|    0|    0|   0|  0|       0|         0|         0|\n",
            "+------+---+-----+-----+----+---+--------+----------+----------+\n",
            "\n"
          ]
        }
      ],
      "source": [
        "# check again NAN values\n",
        "from pyspark.sql.functions import col,isnan, when, count\n",
        "dataset.select([count(when(isnan(c) , c)).alias(c) for c in dataset.columns]\n",
        "   ).show()"
      ]
    },
    {
      "cell_type": "code",
      "execution_count": 14,
      "metadata": {
        "colab": {
          "base_uri": "https://localhost:8080/"
        },
        "id": "IbPRH8UzZRJS",
        "outputId": "35221d92-334e-4de6-d1a7-9b3d90c47928"
      },
      "outputs": [
        {
          "output_type": "stream",
          "name": "stdout",
          "text": [
            "+------+---+-----+-----+------------------+---+--------+----------+----------+\n",
            "|Pclass|Age|SibSp|Parch|              Fare|Sex|Survived|Embarked_Q|Embarked_S|\n",
            "+------+---+-----+-----+------------------+---+--------+----------+----------+\n",
            "|     3| 42|    6|    7|397.00178367782024|  0|       0|         0|         1|\n",
            "|     1| 52|    6|    7|302.12770032784186|  0|       0|         1|         0|\n",
            "|     3| 25|    3|    8| 427.1058765283985|  1|       1|         1|         0|\n",
            "|     3| 32|    9|    7| 326.8049924602327|  1|       0|         0|         0|\n",
            "|     1| 40|    4|    5|17.718838497771657|  0|       0|         0|         0|\n",
            "+------+---+-----+-----+------------------+---+--------+----------+----------+\n",
            "only showing top 5 rows\n",
            "\n"
          ]
        }
      ],
      "source": [
        "#impute\n",
        "from pyspark.ml.feature import Imputer\n",
        "imputer=Imputer(inputCols=[\"SibSp\",\"Fare\",\"Age\",\"Parch\"],outputCols=[\"SibSp\",\"Fare\",\"Age\",\"Parch\"])\n",
        "model=imputer.fit(dataset)\n",
        "dataset=model.transform(dataset)\n",
        "dataset.show(5)"
      ]
    },
    {
      "cell_type": "code",
      "execution_count": 15,
      "metadata": {
        "colab": {
          "base_uri": "https://localhost:8080/"
        },
        "id": "okug_tg4Zxg2",
        "outputId": "508f0898-321e-46af-93bc-d6c7c2b4be6e"
      },
      "outputs": [
        {
          "output_type": "stream",
          "name": "stdout",
          "text": [
            "+------------------------------+\n",
            "|features                      |\n",
            "+------------------------------+\n",
            "|[3.0,42.0,6.0,7.0,0.0,0.0,1.0]|\n",
            "|[1.0,52.0,6.0,7.0,0.0,1.0,0.0]|\n",
            "|[3.0,25.0,3.0,8.0,1.0,1.0,0.0]|\n",
            "|[3.0,32.0,9.0,7.0,1.0,0.0,0.0]|\n",
            "|[1.0,40.0,4.0,5.0,0.0,0.0,0.0]|\n",
            "|[1.0,20.0,7.0,2.0,0.0,0.0,0.0]|\n",
            "|[3.0,76.0,4.0,9.0,0.0,1.0,0.0]|\n",
            "|[2.0,22.0,4.0,7.0,1.0,0.0,0.0]|\n",
            "|[3.0,78.0,4.0,8.0,1.0,0.0,0.0]|\n",
            "|[3.0,15.0,1.0,8.0,1.0,1.0,0.0]|\n",
            "|[3.0,68.0,8.0,7.0,1.0,0.0,1.0]|\n",
            "|[3.0,3.0,7.0,1.0,0.0,1.0,0.0] |\n",
            "|[1.0,63.0,4.0,4.0,1.0,0.0,0.0]|\n",
            "|[3.0,40.0,9.0,8.0,0.0,0.0,1.0]|\n",
            "|[2.0,62.0,3.0,4.0,1.0,0.0,0.0]|\n",
            "|[1.0,41.0,2.0,8.0,1.0,0.0,1.0]|\n",
            "|[2.0,40.0,4.0,2.0,1.0,0.0,1.0]|\n",
            "|[2.0,64.0,4.0,4.0,0.0,0.0,1.0]|\n",
            "|[2.0,67.0,3.0,6.0,0.0,0.0,0.0]|\n",
            "|[2.0,35.0,4.0,1.0,1.0,0.0,0.0]|\n",
            "+------------------------------+\n",
            "only showing top 20 rows\n",
            "\n"
          ]
        }
      ],
      "source": [
        "#us combine all the features in one single feature vector.\n",
        "cols=dataset.columns\n",
        "cols.remove(\"Survived\")\n",
        "cols.remove(\"Fare\")\n",
        "# Let us import the vector assembler\n",
        "from pyspark.ml.feature import VectorAssembler\n",
        "assembler = VectorAssembler(inputCols=cols,outputCol=\"features\")\n",
        "# Now let us use the transform method to transform our dataset\n",
        "dataset=assembler.transform(dataset)\n",
        "dataset.select(\"features\").show(truncate=False)\n"
      ]
    },
    {
      "cell_type": "code",
      "execution_count": 16,
      "metadata": {
        "colab": {
          "base_uri": "https://localhost:8080/"
        },
        "id": "KULU0Q1GaF0X",
        "outputId": "5c986dc6-b14a-4ef2-f237-b961a96f7745"
      },
      "outputs": [
        {
          "output_type": "stream",
          "name": "stdout",
          "text": [
            "+--------------------+--------------------+\n",
            "|            features|     Scaled_features|\n",
            "+--------------------+--------------------+\n",
            "|[3.0,42.0,6.0,7.0...|[3.67275115824148...|\n",
            "|[1.0,52.0,6.0,7.0...|[1.22425038608049...|\n",
            "|[3.0,25.0,3.0,8.0...|[3.67275115824148...|\n",
            "|[3.0,32.0,9.0,7.0...|[3.67275115824148...|\n",
            "|[1.0,40.0,4.0,5.0...|[1.22425038608049...|\n",
            "+--------------------+--------------------+\n",
            "only showing top 5 rows\n",
            "\n"
          ]
        }
      ],
      "source": [
        "#Standard Sclarizer\n",
        "from pyspark.ml.feature import StandardScaler\n",
        "standardscaler=StandardScaler().setInputCol(\"features\").setOutputCol(\"Scaled_features\")\n",
        "dataset=standardscaler.fit(dataset).transform(dataset)\n",
        "dataset.select(\"features\",\"Scaled_features\").show(5)\n"
      ]
    },
    {
      "cell_type": "code",
      "execution_count": 17,
      "metadata": {
        "colab": {
          "base_uri": "https://localhost:8080/"
        },
        "id": "5pha9f4Cf6Q-",
        "outputId": "1dd6ffc4-e17c-4d05-ccdd-4a7cc43fb73c"
      },
      "outputs": [
        {
          "output_type": "stream",
          "name": "stdout",
          "text": [
            "+------+---+-----+-----+------------------+---+--------+----------+----------+------------------------------+----------------------------------------------------------------------------------------------------------------------+\n",
            "|Pclass|Age|SibSp|Parch|Fare              |Sex|Survived|Embarked_Q|Embarked_S|features                      |Scaled_features                                                                                                       |\n",
            "+------+---+-----+-----+------------------+---+--------+----------+----------+------------------------------+----------------------------------------------------------------------------------------------------------------------+\n",
            "|3     |42 |6    |7    |397.00178367782024|0  |0       |0         |1         |[3.0,42.0,6.0,7.0,0.0,0.0,1.0]|[3.672751158241489,1.853360446789893,2.431076881147427,2.835650216431042,0.0,0.0,2.120798672850694]                   |\n",
            "|1     |52 |6    |7    |302.12770032784186|0  |0       |1         |0         |[1.0,52.0,6.0,7.0,0.0,1.0,0.0]|[1.2242503860804963,2.2946367436446296,2.431076881147427,2.835650216431042,0.0,2.1223023587831746,0.0]                |\n",
            "|3     |25 |3    |8    |427.1058765283985 |1  |1       |1         |0         |[3.0,25.0,3.0,8.0,1.0,1.0,0.0]|[3.672751158241489,1.1031907421368412,1.2155384405737135,3.2407431044926196,2.0000016896038306,2.1223023587831746,0.0]|\n",
            "|3     |32 |9    |7    |326.8049924602327 |1  |0       |0         |0         |[3.0,32.0,9.0,7.0,1.0,0.0,0.0]|[3.672751158241489,1.4120841499351566,3.6466153217211406,2.835650216431042,2.0000016896038306,0.0,0.0]                |\n",
            "|1     |40 |4    |5    |17.718838497771657|0  |0       |0         |0         |[1.0,40.0,4.0,5.0,0.0,0.0,0.0]|[1.2242503860804963,1.7651051874189458,1.6207179207649514,2.0254644403078874,0.0,0.0,0.0]                             |\n",
            "+------+---+-----+-----+------------------+---+--------+----------+----------+------------------------------+----------------------------------------------------------------------------------------------------------------------+\n",
            "only showing top 5 rows\n",
            "\n"
          ]
        }
      ],
      "source": [
        "dataset.show(5,truncate=False)"
      ]
    },
    {
      "cell_type": "code",
      "execution_count": 18,
      "metadata": {
        "id": "2eHnLFyUaQIv"
      },
      "outputs": [],
      "source": [
        "#Train, test split\n",
        "train, test = dataset.randomSplit([0.8, 0.2], seed=12345)"
      ]
    },
    {
      "cell_type": "code",
      "execution_count": 19,
      "metadata": {
        "colab": {
          "base_uri": "https://localhost:8080/"
        },
        "id": "7ofHU5oTaTyg",
        "outputId": "874ef006-a444-48a6-bcb0-fc036975eb6a"
      },
      "outputs": [
        {
          "output_type": "stream",
          "name": "stdout",
          "text": [
            "The number of ones are 400075\n",
            "Percentage of ones are 49.99412679132865\n"
          ]
        }
      ],
      "source": [
        "#imbalance in the dataset, observe the use of Where\n",
        "dataset_size=float(train.select(\"Survived\").count())\n",
        "numPositives=train.select(\"Survived\").where('Survived == 1').count()\n",
        "per_ones=(float(numPositives)/float(dataset_size))*100\n",
        "numNegatives=float(dataset_size-numPositives)\n",
        "print('The number of ones are {}'.format(numPositives))\n",
        "print('Percentage of ones are {}'.format(per_ones))"
      ]
    },
    {
      "cell_type": "code",
      "execution_count": 20,
      "metadata": {
        "colab": {
          "base_uri": "https://localhost:8080/"
        },
        "id": "Owzj7VzOaoBo",
        "outputId": "a05cb7b6-3664-437b-8f82-0e89a11c8ada"
      },
      "outputs": [
        {
          "output_type": "stream",
          "name": "stdout",
          "text": [
            "BalancingRatio = 0.5000587320867136\n"
          ]
        }
      ],
      "source": [
        "BalancingRatio= numNegatives/dataset_size\n",
        "print('BalancingRatio = {}'.format(BalancingRatio))"
      ]
    },
    {
      "cell_type": "code",
      "execution_count": 21,
      "metadata": {
        "colab": {
          "base_uri": "https://localhost:8080/"
        },
        "id": "3ckpSV-KarH4",
        "outputId": "3391253b-465b-46c8-babd-7ef0259969c0"
      },
      "outputs": [
        {
          "output_type": "stream",
          "name": "stdout",
          "text": [
            "+------------------+\n",
            "|      classWeights|\n",
            "+------------------+\n",
            "|0.5000587320867136|\n",
            "|0.4999412679132864|\n",
            "|0.5000587320867136|\n",
            "|0.5000587320867136|\n",
            "|0.5000587320867136|\n",
            "+------------------+\n",
            "only showing top 5 rows\n",
            "\n"
          ]
        }
      ],
      "source": [
        "# balance\n",
        "train=train.withColumn(\"classWeights\", when(train.Survived == 1,BalancingRatio).otherwise(1-BalancingRatio))\n",
        "train.select(\"classWeights\").show(5)"
      ]
    },
    {
      "cell_type": "code",
      "execution_count": 22,
      "metadata": {
        "colab": {
          "base_uri": "https://localhost:8080/"
        },
        "id": "__I-l-kpa-mp",
        "outputId": "29bd5799-6ca1-4ebf-d162-1483f1a87cc1"
      },
      "outputs": [
        {
          "output_type": "stream",
          "name": "stdout",
          "text": [
            "+---------------------------------------------------------------------------------------------------------------------------+\n",
            "|Aspect                                                                                                                     |\n",
            "+---------------------------------------------------------------------------------------------------------------------------+\n",
            "|[1.2242503860804963,0.044127629685473645,0.40517948019123784,0.40509288806157745,0.0,0.0,0.0]                              |\n",
            "|[1.2242503860804963,0.044127629685473645,0.40517948019123784,0.40509288806157745,2.0000016896038306,2.1223023587831746,0.0]|\n",
            "|[1.2242503860804963,0.044127629685473645,0.40517948019123784,0.40509288806157745,0.0,0.0,2.120798672850694]                |\n",
            "|[1.2242503860804963,0.044127629685473645,0.40517948019123784,0.8101857761231549,0.0,0.0,0.0]                               |\n",
            "|[1.2242503860804963,0.044127629685473645,0.40517948019123784,0.8101857761231549,0.0,0.0,2.120798672850694]                 |\n",
            "+---------------------------------------------------------------------------------------------------------------------------+\n",
            "only showing top 5 rows\n",
            "\n"
          ]
        }
      ],
      "source": [
        "#Feature selection\n",
        "# Feature selection using chisquareSelector\n",
        "from pyspark.ml.feature import ChiSqSelector\n",
        "css = ChiSqSelector(featuresCol='Scaled_features',outputCol='Aspect',labelCol='Survived',fpr=0.05)\n",
        "train=css.fit(train).transform(train)\n",
        "test=css.fit(test).transform(test)\n",
        "test.select(\"Aspect\").show(5,truncate=False)"
      ]
    },
    {
      "cell_type": "code",
      "execution_count": 23,
      "metadata": {
        "colab": {
          "base_uri": "https://localhost:8080/"
        },
        "id": "C77GB_nCd4cy",
        "outputId": "cc511e80-520a-459e-b091-2fdff7c3269f"
      },
      "outputs": [
        {
          "output_type": "stream",
          "name": "stdout",
          "text": [
            "+------+---+-----+-----+------------------+---+--------+----------+----------+--------------------+--------------------+------------------+--------------------+\n",
            "|Pclass|Age|SibSp|Parch|              Fare|Sex|Survived|Embarked_Q|Embarked_S|            features|     Scaled_features|      classWeights|              Aspect|\n",
            "+------+---+-----+-----+------------------+---+--------+----------+----------+--------------------+--------------------+------------------+--------------------+\n",
            "|     1|  1|    1|    1|28.811477212867022|  0|       1|         0|         0|[1.0,1.0,1.0,1.0,...|[1.22425038608049...|0.5000587320867136|[1.22425038608049...|\n",
            "|     1|  1|    1|    1| 37.35074336825958|  1|       0|         0|         1|[1.0,1.0,1.0,1.0,...|[1.22425038608049...|0.4999412679132864|[1.22425038608049...|\n",
            "|     1|  1|    1|    1| 98.03437973491282|  1|       1|         0|         0|[1.0,1.0,1.0,1.0,...|[1.22425038608049...|0.5000587320867136|[1.22425038608049...|\n",
            "|     1|  1|    1|    1|121.11505502870445|  0|       1|         0|         0|[1.0,1.0,1.0,1.0,...|[1.22425038608049...|0.5000587320867136|[1.22425038608049...|\n",
            "|     1|  1|    1|    1|133.31278931403978|  0|       1|         1|         0|[1.0,1.0,1.0,1.0,...|[1.22425038608049...|0.5000587320867136|[1.22425038608049...|\n",
            "|     1|  1|    1|    1|  156.489934014647|  0|       1|         0|         1|[1.0,1.0,1.0,1.0,...|[1.22425038608049...|0.5000587320867136|[1.22425038608049...|\n",
            "|     1|  1|    1|    1|229.55210792412268|  1|       0|         0|         0|[1.0,1.0,1.0,1.0,...|[1.22425038608049...|0.4999412679132864|[1.22425038608049...|\n",
            "|     1|  1|    1|    1|231.97865383105298|  1|       1|         0|         1|[1.0,1.0,1.0,1.0,...|[1.22425038608049...|0.5000587320867136|[1.22425038608049...|\n",
            "|     1|  1|    1|    1| 258.6116109098214|  1|       0|         0|         1|[1.0,1.0,1.0,1.0,...|[1.22425038608049...|0.4999412679132864|[1.22425038608049...|\n",
            "|     1|  1|    1|    1|  286.173778059775|  0|       0|         0|         0|[1.0,1.0,1.0,1.0,...|[1.22425038608049...|0.4999412679132864|[1.22425038608049...|\n",
            "|     1|  1|    1|    1| 288.0756908530216|  0|       0|         0|         1|[1.0,1.0,1.0,1.0,...|[1.22425038608049...|0.4999412679132864|[1.22425038608049...|\n",
            "|     1|  1|    1|    1| 308.3517342548402|  0|       0|         0|         0|[1.0,1.0,1.0,1.0,...|[1.22425038608049...|0.4999412679132864|[1.22425038608049...|\n",
            "|     1|  1|    1|    1| 320.8434178490648|  1|       0|         0|         1|[1.0,1.0,1.0,1.0,...|[1.22425038608049...|0.4999412679132864|[1.22425038608049...|\n",
            "|     1|  1|    1|    1|330.83590012416926|  0|       1|         0|         0|[1.0,1.0,1.0,1.0,...|[1.22425038608049...|0.5000587320867136|[1.22425038608049...|\n",
            "|     1|  1|    1|    1| 345.7068097405846|  1|       1|         1|         0|[1.0,1.0,1.0,1.0,...|[1.22425038608049...|0.5000587320867136|[1.22425038608049...|\n",
            "|     1|  1|    1|    1| 348.4674118033091|  0|       0|         0|         0|[1.0,1.0,1.0,1.0,...|[1.22425038608049...|0.4999412679132864|[1.22425038608049...|\n",
            "|     1|  1|    1|    1|352.06104626762937|  0|       0|         0|         0|[1.0,1.0,1.0,1.0,...|[1.22425038608049...|0.4999412679132864|[1.22425038608049...|\n",
            "|     1|  1|    1|    1| 372.6312245126017|  0|       0|         0|         0|[1.0,1.0,1.0,1.0,...|[1.22425038608049...|0.4999412679132864|[1.22425038608049...|\n",
            "|     1|  1|    1|    1|  378.057635036175|  1|       0|         1|         0|[1.0,1.0,1.0,1.0,...|[1.22425038608049...|0.4999412679132864|[1.22425038608049...|\n",
            "|     1|  1|    1|    1|388.03915823623305|  1|       1|         1|         0|[1.0,1.0,1.0,1.0,...|[1.22425038608049...|0.5000587320867136|[1.22425038608049...|\n",
            "+------+---+-----+-----+------------------+---+--------+----------+----------+--------------------+--------------------+------------------+--------------------+\n",
            "only showing top 20 rows\n",
            "\n"
          ]
        }
      ],
      "source": [
        "train.show()"
      ]
    },
    {
      "cell_type": "code",
      "execution_count": 24,
      "metadata": {
        "colab": {
          "base_uri": "https://localhost:8080/"
        },
        "id": "ygFVBMA6c4EZ",
        "outputId": "43fc83b7-5565-4753-ef85-e10383856e3d"
      },
      "outputs": [
        {
          "output_type": "stream",
          "name": "stdout",
          "text": [
            "+-----+\n",
            "|Parch|\n",
            "+-----+\n",
            "|    1|\n",
            "|    6|\n",
            "|    3|\n",
            "|    5|\n",
            "|    9|\n",
            "|    4|\n",
            "|    8|\n",
            "|    7|\n",
            "|    2|\n",
            "+-----+\n",
            "\n"
          ]
        }
      ],
      "source": [
        "train.select(\"Parch\").distinct().show()\n"
      ]
    },
    {
      "cell_type": "code",
      "execution_count": 25,
      "metadata": {
        "colab": {
          "base_uri": "https://localhost:8080/"
        },
        "id": "wtbMbU-Xiddh",
        "outputId": "9053de40-2b31-4ebf-b797-d7199b1dbc12"
      },
      "outputs": [
        {
          "output_type": "stream",
          "name": "stdout",
          "text": [
            "+--------+----------+\n",
            "|Survived|prediction|\n",
            "+--------+----------+\n",
            "|       1|       1.0|\n",
            "|       1|       0.0|\n",
            "|       0|       1.0|\n",
            "|       1|       1.0|\n",
            "|       1|       1.0|\n",
            "|       1|       0.0|\n",
            "|       0|       0.0|\n",
            "|       1|       0.0|\n",
            "|       1|       1.0|\n",
            "|       0|       0.0|\n",
            "+--------+----------+\n",
            "only showing top 10 rows\n",
            "\n"
          ]
        }
      ],
      "source": [
        "#Building a classification model using Logistic Regression (LR)\n",
        "from pyspark.ml.classification import LogisticRegression\n",
        "lr = LogisticRegression(labelCol=\"Survived\", featuresCol=\"Aspect\",weightCol=\"classWeights\",maxIter=10)\n",
        "model=lr.fit(train)\n",
        "predict_train=model.transform(train)\n",
        "predict_test=model.transform(test)\n",
        "predict_test.select(\"Survived\",\"prediction\").show(10)"
      ]
    },
    {
      "cell_type": "code",
      "execution_count": 26,
      "metadata": {
        "colab": {
          "base_uri": "https://localhost:8080/"
        },
        "id": "jn5M4mF8ixKx",
        "outputId": "5025103b-1d02-48f9-da6b-deed77486dd3"
      },
      "outputs": [
        {
          "output_type": "stream",
          "name": "stdout",
          "text": [
            "Area under ROC Curve: 0.5010\n",
            "+--------+----------+--------------------+\n",
            "|Survived|prediction|         probability|\n",
            "+--------+----------+--------------------+\n",
            "|       1|       1.0|[0.49930380741710...|\n",
            "|       1|       0.0|[0.50041715947243...|\n",
            "|       0|       1.0|[0.49941555622916...|\n",
            "|       1|       1.0|[0.49924458660988...|\n",
            "|       1|       1.0|[0.49935633538648...|\n",
            "|       1|       0.0|[0.50035793857601...|\n",
            "|       0|       0.0|[0.50032318520758...|\n",
            "|       1|       0.0|[0.50032318520758...|\n",
            "|       1|       1.0|[0.49910167759004...|\n",
            "|       0|       0.0|[0.50026396429599...|\n",
            "|       1|       1.0|[0.49910167759004...|\n",
            "|       1|       1.0|[0.49910167759004...|\n",
            "|       0|       1.0|[0.49912614506070...|\n",
            "|       1|       1.0|[0.49912614506070...|\n",
            "|       1|       0.0|[0.50023949675469...|\n",
            "+--------+----------+--------------------+\n",
            "only showing top 15 rows\n",
            "\n"
          ]
        }
      ],
      "source": [
        "#Evaluating the model\n",
        "from pyspark.ml.evaluation import BinaryClassificationEvaluator\n",
        "\n",
        "evaluator=BinaryClassificationEvaluator(rawPredictionCol='prediction',labelCol=\"Survived\")\n",
        "# We have only two choices: area under ROC and PR curves :-(\n",
        "auroc = evaluator.evaluate(predict_test, {evaluator.metricName: \"areaUnderROC\"})\n",
        "\n",
        "print(\"Area under ROC Curve: {:.4f}\".format(auroc))\n",
        "\n",
        "predict_test.select(\"Survived\",\"prediction\",\"probability\").show(15)"
      ]
    },
    {
      "cell_type": "code",
      "execution_count": 27,
      "metadata": {
        "colab": {
          "base_uri": "https://localhost:8080/",
          "height": 518
        },
        "id": "vWo7VKgqjC90",
        "outputId": "ed6b7098-e0d6-4772-a2f9-648511a69ad1"
      },
      "outputs": [
        {
          "output_type": "stream",
          "name": "stdout",
          "text": [
            "<pyspark.ml.classification.BinaryLogisticRegressionTrainingSummary object at 0x7ee49d5f6dd0>\n"
          ]
        },
        {
          "output_type": "display_data",
          "data": {
            "text/plain": [
              "<Figure size 640x480 with 1 Axes>"
            ],
            "image/png": "[encoded data removed]"
          },
          "metadata": {}
        },
        {
          "output_type": "stream",
          "name": "stdout",
          "text": [
            "Model Accuracy 0.5007594774991688\n",
            "FP rate [0.5017159282634587, 0.49676511673819335]\n",
            "TR rate [0.5032348832618067, 0.4982840717365413]\n"
          ]
        }
      ],
      "source": [
        "print(model.summary)\n",
        "import matplotlib.pyplot as plt\n",
        "pr = model.summary.pr.toPandas()\n",
        "plt.plot(pr['recall'],pr['precision'])\n",
        "plt.ylabel('Precision')\n",
        "plt.xlabel('Recall')\n",
        "plt.show()\n",
        "print(\"Model Accuracy\",model.summary.accuracy)\n",
        "print(\"FP rate\",model.summary.falsePositiveRateByLabel)\n",
        "print(\"TR rate\",model.summary.truePositiveRateByLabel)"
      ]
    },
    {
      "cell_type": "code",
      "execution_count": 28,
      "metadata": {
        "colab": {
          "base_uri": "https://localhost:8080/"
        },
        "id": "ICLc1GnijTqL",
        "outputId": "ee602af3-8cad-414c-c8c2-8062d308c3dc"
      },
      "outputs": [
        {
          "output_type": "stream",
          "name": "stdout",
          "text": [
            "Total 199756\n",
            "TruePostive 49826 FalsePostive 49704\n",
            "TrueNegative 50257 FalseNegative 49969\n"
          ]
        }
      ],
      "source": [
        "#print(\"Total True Positive i.e. diabetes\",predict_test.select(\"Outcome\").where('Outcome == 1.0').count())\n",
        "#print(\"Total True  Negative,i.e. without diabetes\",predict_test.select(\"Outcome\").where('Outcome == 0.0').count())\n",
        "pr = predict_test.toPandas()\n",
        "TruePositive =0\n",
        "FalsePositive=0\n",
        "TrueNegative=0\n",
        "FalseNegative=0\n",
        "Postive=1.0\n",
        "Negative=0.0\n",
        "pos=0\n",
        "Neg=0\n",
        "\n",
        "print(\"Total\",len(pr[\"Survived\"]))\n",
        "for lbl in range(len(pr[\"Survived\"])):\n",
        "  if  pr[\"prediction\"][lbl]==Postive:\n",
        "    pos+=1\n",
        "    if pr[\"prediction\"][lbl]==pr[\"Survived\"][lbl]:\n",
        "      TruePositive+=1\n",
        "    else:\n",
        "      FalsePositive+=1\n",
        "  if  pr[\"prediction\"][lbl]==Negative:\n",
        "    Neg+=1\n",
        "    if pr[\"prediction\"][lbl]==pr[\"Survived\"][lbl]:\n",
        "      TrueNegative+=1\n",
        "    else:\n",
        "      FalseNegative+=1\n",
        "#print(\"Total Positive & Negative predicted,  Survived: \",pos,\",Non Survided\",Neg)\n",
        "print(\"TruePostive\",TruePositive,\"FalsePostive\",FalsePositive)\n",
        "print(\"TrueNegative\",TrueNegative,\"FalseNegative\",FalseNegative)"
      ]
    },
    {
      "cell_type": "code",
      "execution_count": 29,
      "metadata": {
        "colab": {
          "base_uri": "https://localhost:8080/",
          "height": 487
        },
        "id": "6XvT1Nm0j7vk",
        "outputId": "6d2d480d-6b28-4463-d3da-462d6e5cbecb"
      },
      "outputs": [
        {
          "output_type": "display_data",
          "data": {
            "text/plain": [
              "<Figure size 600x500 with 2 Axes>"
            ],
            "image/png": "[encoded data removed]"
          },
          "metadata": {}
        }
      ],
      "source": [
        "import seaborn as sns\n",
        "import matplotlib.pyplot as plt\n",
        "\n",
        "TN = TrueNegative\n",
        "FP = FalsePositive\n",
        "FN = FalseNegative\n",
        "TP = TruePositive\n",
        "conf_matrix = np.array([[TN, FP],\n",
        "                        [FN, TP]])\n",
        "labels = [\"Negative (0)\", \"Positive (1)\"]\n",
        "\n",
        "plt.figure(figsize=(6, 5))\n",
        "sns.heatmap(conf_matrix, annot=True,  cmap=\"Blues\",\n",
        "            xticklabels=labels, yticklabels=labels)\n",
        "plt.xlabel(\"Predicted Label\")\n",
        "plt.ylabel(\"True Label\")\n",
        "plt.title(\"Confusion Matrix\")\n",
        "plt.show()"
      ]
    }
  ],
  "metadata": {
    "colab": {
      "provenance": []
    },
    "kernelspec": {
      "display_name": "Python 3",
      "name": "python3"
    },
    "language_info": {
      "name": "python"
    }
  },
  "nbformat": 4,
  "nbformat_minor": 0
}